{
    "cells": [
        {
            "cell_type": "markdown",
            "metadata": {
                "collapsed": true
            },
            "source": "# My Jupyter Notebook on IBM Watson Studio"
        },
        {
            "cell_type": "markdown",
            "metadata": {},
            "source": "<b>Yuan Feng</b>\n<br>Student"
        },
        {
            "cell_type": "markdown",
            "metadata": {},
            "source": "<em>Since I have cs background</em>"
        },
        {
            "cell_type": "markdown",
            "metadata": {},
            "source": "<h3>Simple \"Hello World\"</h3>"
        },
        {
            "cell_type": "code",
            "execution_count": 3,
            "metadata": {},
            "outputs": [
                {
                    "name": "stdout",
                    "output_type": "stream",
                    "text": "Hello World\n"
                }
            ],
            "source": "print(\"Hello World\")"
        },
        {
            "cell_type": "markdown",
            "metadata": {},
            "source": "horizontal rule\n<hr>\n<li>bulleted list 1</li>\n<li>bulleted list 2</li>\n<p><a href=\"https://google.ca\" title=\"Optional Title\">hyperlinks</a></p>"
        },
        {
            "cell_type": "markdown",
            "metadata": {},
            "source": "<p> This is an introduction of final assignment, since the requirements are more than shown before</p>"
        },
        {
            "cell_type": "markdown",
            "metadata": {},
            "source": "<p> List of data science language </p>\n<li>Python</li>\n<li>R</li>\n<li>SQL</li>"
        },
        {
            "cell_type": "markdown",
            "metadata": {},
            "source": "<p> List of data science libraries </p>\n<li>Pandas</li>\n<li>Numpy</li>\n<li>scikit-learn</li>"
        },
        {
            "cell_type": "markdown",
            "metadata": {},
            "source": "<table>\n    <thead>\n        <tr>\n            <th> Categories of Data Science tools </th>\n            <th> Sample </th>\n        </tr>\n    </thead>\n    <tbody>\n        <tr>\n            <td> Data Management </td>\n            <td> MySQL </td>\n        </tr>\n        <tr>\n            <td> Data Visualization </td>\n            <td> Kibana </td>\n        </tr>\n        <tr>\n            <td> Model Deployment </td>\n            <td> Seldon </td>\n        </tr>\n    </tbody>\n</table>"
        },
        {
            "cell_type": "markdown",
            "metadata": {},
            "source": "<p>\n    <b>\n    introducing arithmetic expression examples\n    </b>\n</p>"
        },
        {
            "cell_type": "markdown",
            "metadata": {},
            "source": "<p>\n    inserted markdown\n</p>"
        },
        {
            "cell_type": "code",
            "execution_count": 9,
            "metadata": {},
            "outputs": [
                {
                    "data": {
                        "text/plain": "17"
                    },
                    "execution_count": 9,
                    "metadata": {},
                    "output_type": "execute_result"
                }
            ],
            "source": "(3*4)+5"
        },
        {
            "cell_type": "code",
            "execution_count": 8,
            "metadata": {},
            "outputs": [
                {
                    "name": "stdout",
                    "output_type": "stream",
                    "text": "minute is  126\nhour is  2\n"
                }
            ],
            "source": "def M2H(x):\n    return x//60\nx = 126\nprint(\"minute is \", x)\nprint(\"hour is \", M2H(x))"
        },
        {
            "cell_type": "markdown",
            "metadata": {},
            "source": "Author's Name: Yuan"
        },
        {
            "cell_type": "code",
            "execution_count": null,
            "metadata": {},
            "outputs": [],
            "source": ""
        }
    ],
    "metadata": {
        "kernelspec": {
            "display_name": "Python 3.10",
            "language": "python",
            "name": "python3"
        },
        "language_info": {
            "codemirror_mode": {
                "name": "ipython",
                "version": 3
            },
            "file_extension": ".py",
            "mimetype": "text/x-python",
            "name": "python",
            "nbconvert_exporter": "python",
            "pygments_lexer": "ipython3",
            "version": "3.10.9"
        }
    },
    "nbformat": 4,
    "nbformat_minor": 1
}